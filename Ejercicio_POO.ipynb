{
 "cells": [
  {
   "cell_type": "markdown",
   "metadata": {
    "id": "vigJnuAMSU4x"
   },
   "source": [
    "![TheBridge_logo_RGB_color.jpg](attachment:TheBridge_logo_RGB_color.jpg)"
   ]
  },
  {
   "cell_type": "markdown",
   "metadata": {
    "id": "2xmnwM17SU4y"
   },
   "source": [
    "![ejercicios.png](attachment:ejercicios.png)"
   ]
  },
  {
   "cell_type": "markdown",
   "metadata": {
    "id": "liorA-1ZSU4y"
   },
   "source": [
    "# Ejercicios Clases y Objetos"
   ]
  },
  {
   "cell_type": "markdown",
   "metadata": {
    "id": "5xXUz5l9SU4z"
   },
   "source": [
    "## Ejercicio 1\n",
    "Somos una empresa que tiene varias tiendas de electrodomesticos. Necesitamos un programa para manejar las tiendas, ver las ventas que han tenido, cuántos empleados hay, etc... Para ello vamos a modelizar la tienda en una clase, que tendrá las siguientes características:\n",
    "* Nombre clase: \"Tienda\"\n",
    "* Atributos comunes:\n",
    "    * Tipo: \"Electrodomésticos\"\n",
    "    * Abierta: True\n",
    "* Atributos propios de cada tienda:\n",
    "    * Nombre - String\n",
    "    * Dirección - String\n",
    "    * Número de empleados - int\n",
    "    * Ventas ultimos 3 meses - Lista de 3 numeros\n",
    "* Método para calcular las ventas de todos los meses, que devuelva un numero con todas las ventas.\n",
    "* Método que calcula la media de ventas de los ultimos meses, por empleado\n",
    "* Método que devuelve en un string el nombre de la tienda, junto con su dirección.\n",
    "* Método que obtiene las ventas del último mes.\n",
    "* Método para dar una proyección de las ventas en caso de haber invertido X dinero en marketing en esa tienda. Siendo X el parámetro de entrada. Si X es menor de 1000, las ventas de los ultimos 3 meses hubiesen sido de (1.2 x ventas), si es mayor o igual de 1000, las ventas hubiesen sido de (1.5 x venta). El método reescribe el atributo de ventas en los últimos 3 meses, y además devuelve las ventas con el aumento.\n",
    "\n",
    "Se pide:\n",
    "1. Implementar la clase \"Tienda\"\n",
    "2. Crear tres tiendas con datos inventados\n",
    "3. Comprueba en al menos una de ellas, todo lo implementado en la clase tienda (sus atributos, media de ventas, ventas/empleado...)\n",
    "3. Calcular las ventas del último mes de todas las tiendas. Para ello usa el bucle `for`\n",
    "4. Imprime por pantalla los nombres de las tiendas cuya dirección lleve el string \"Avenida\"\n",
    "5. Seguro que ya has hecho este apartado... Documenta la clase :)"
   ]
  },
  {
   "cell_type": "code",
   "execution_count": 1,
   "metadata": {
    "id": "5cLQcLxfSU4z"
   },
   "outputs": [
    {
     "name": "stdout",
     "output_type": "stream",
     "text": [
      "Ventas totales de la tienda 1: 75000\n",
      "Media de ventas por empleado en tienda 1: 7500.0\n",
      "Dirección de la tienda 1: Tienda: ElectroWorld, Dirección: Avenida Principal 123\n",
      "Ventas del último mes de la tienda 1: 30000\n",
      "Proyección de ventas en tienda 1 con inversión de 1200: [30000.0, 37500.0, 45000.0]\n",
      "Ventas del último mes en ElectroWorld: 45000.0\n",
      "Ventas del último mes en TechCenter: 16000\n",
      "Ventas del último mes en ElectroManía: 23000\n",
      "\n",
      "Tiendas en la Avenida:\n",
      "ElectroWorld\n",
      "ElectroManía\n"
     ]
    }
   ],
   "source": [
    "class Tienda:\n",
    "    # Atributos comunes\n",
    "    tipo = \"Electrodomésticos\"\n",
    "    abierta = True\n",
    "\n",
    "    def __init__(self, nombre, direccion, num_empleados, ventas_ultimos_3_meses):\n",
    "        \"\"\"\n",
    "        Inicializa una nueva instancia de la clase Tienda con sus atributos específicos.\n",
    "        \n",
    "        :param nombre: Nombre de la tienda (String)\n",
    "        :param direccion: Dirección de la tienda (String)\n",
    "        :param num_empleados: Número de empleados (int)\n",
    "        :param ventas_ultimos_3_meses: Lista con las ventas de los últimos 3 meses (Lista de 3 números)\n",
    "        \"\"\"\n",
    "        self.nombre = nombre\n",
    "        self.direccion = direccion\n",
    "        self.num_empleados = num_empleados\n",
    "        self.ventas_ultimos_3_meses = ventas_ultimos_3_meses\n",
    "\n",
    "    def calcular_ventas_totales(self):\n",
    "        \"\"\"Calcula las ventas totales de los últimos 3 meses.\"\"\"\n",
    "        return sum(self.ventas_ultimos_3_meses)\n",
    "\n",
    "    def media_ventas_por_empleado(self):\n",
    "        \"\"\"Calcula la media de ventas por empleado de los últimos 3 meses.\"\"\"\n",
    "        ventas_totales = self.calcular_ventas_totales()\n",
    "        if self.num_empleados > 0:\n",
    "            return ventas_totales / self.num_empleados\n",
    "        else:\n",
    "            return 0  # Evitar división por 0\n",
    "\n",
    "    def obtener_direccion(self):\n",
    "        \"\"\"Devuelve un string con el nombre de la tienda y su dirección.\"\"\"\n",
    "        return f\"Tienda: {self.nombre}, Dirección: {self.direccion}\"\n",
    "\n",
    "    def obtener_ventas_ultimo_mes(self):\n",
    "        \"\"\"Obtiene las ventas del último mes.\"\"\"\n",
    "        return self.ventas_ultimos_3_meses[-1]\n",
    "\n",
    "    def proyeccion_ventas_con_marketing(self, inversion):\n",
    "        \"\"\"\n",
    "        Proyecta las ventas en función de una inversión en marketing.\n",
    "        \n",
    "        :param inversion: Cantidad invertida en marketing.\n",
    "        :return: Lista con las ventas proyectadas.\n",
    "        \"\"\"\n",
    "        if inversion < 1000:\n",
    "            factor = 1.2\n",
    "        else:\n",
    "            factor = 1.5\n",
    "\n",
    "        # Reescribir las ventas con el factor de incremento\n",
    "        self.ventas_ultimos_3_meses = [venta * factor for venta in self.ventas_ultimos_3_meses]\n",
    "        return self.ventas_ultimos_3_meses\n",
    "\n",
    "# Crear tres tiendas con datos inventados\n",
    "tienda1 = Tienda(\"ElectroWorld\", \"Avenida Principal 123\", 10, [20000, 25000, 30000])\n",
    "tienda2 = Tienda(\"TechCenter\", \"Calle Secundaria 45\", 8, [15000, 17000, 16000])\n",
    "tienda3 = Tienda(\"ElectroManía\", \"Avenida del Norte 56\", 12, [22000, 21000, 23000])\n",
    "\n",
    "# Comprobar atributos y métodos en tienda1\n",
    "print(\"Ventas totales de la tienda 1:\", tienda1.calcular_ventas_totales())\n",
    "print(\"Media de ventas por empleado en tienda 1:\", tienda1.media_ventas_por_empleado())\n",
    "print(\"Dirección de la tienda 1:\", tienda1.obtener_direccion())\n",
    "print(\"Ventas del último mes de la tienda 1:\", tienda1.obtener_ventas_ultimo_mes())\n",
    "\n",
    "# Aplicar proyección de ventas con una inversión de 1200 en tienda 1\n",
    "proyeccion_tienda1 = tienda1.proyeccion_ventas_con_marketing(1200)\n",
    "print(\"Proyección de ventas en tienda 1 con inversión de 1200:\", proyeccion_tienda1)\n",
    "\n",
    "# Calcular las ventas del último mes de todas las tiendas\n",
    "for tienda in [tienda1, tienda2, tienda3]:\n",
    "    print(f\"Ventas del último mes en {tienda.nombre}: {tienda.obtener_ventas_ultimo_mes()}\")\n",
    "\n",
    "# Imprimir los nombres de las tiendas cuya dirección contiene \"Avenida\"\n",
    "print(\"\\nTiendas en la Avenida:\")\n",
    "for tienda in [tienda1, tienda2, tienda3]:\n",
    "    if \"Avenida\" in tienda.direccion:\n",
    "        print(tienda.nombre)\n",
    "\n"
   ]
  },
  {
   "cell_type": "markdown",
   "metadata": {
    "id": "WEBq7EpsSU40"
   },
   "source": [
    "## Ejercicio 2\n",
    "En este ejercicio vamos a implementar una clase *Perro* en Python. La clase tiene las siguientes características:\n",
    "* Cosas que sabemos seguro que tiene un perro\n",
    "    * Tiene 4 patas\n",
    "    * 2 orejas\n",
    "    * 2 ojos\n",
    "    * Una velocidad de 0. Por defecto, el perro está parado\n",
    "* Cuando se inicialice:\n",
    "    * El perro será de una determinada raza\n",
    "    * Por defecto tendrá pelo \"Marrón\", a no ser que se diga lo contrario.\n",
    "    * Por defecto no tendrá dueño, a no ser que se diga lo contrario.\n",
    "    \n",
    "* Dispondrá también de un método llamado andar, que tiene un argumento de entrada (aumento_velocidad). Este valor se le sumará a la velocidad que ya llevaba el perro.\n",
    "* Necesita otro método (parar), donde pondremos la velocidad a 0.\n",
    "* Otro método llamado \"ladrar\", que tendrá un argumento de entrada, y la salida será el siguiente string: \"GUAU!\" + el argumento de entrada.\n",
    "\n",
    "\n",
    "Se pide:\n",
    "* Implementa la clase *Perro*\n",
    "* Crea un objeto de tipo *Perro*, sin dueño\n",
    "* Comprueba que están bien todos sus atributos\n",
    "* Prueba que ande, y comprueba su velocidad\n",
    "* Páralo\n",
    "* Documenta la clase *Perro*"
   ]
  },
  {
   "cell_type": "code",
   "execution_count": 3,
   "metadata": {
    "id": "DpEWvbwGSU40"
   },
   "outputs": [
    {
     "name": "stdout",
     "output_type": "stream",
     "text": [
      "Raza: Labrador\n",
      "Color de pelo: Marrón\n",
      "Tiene dueño: False\n",
      "Velocidad inicial: 0 km/h\n",
      "Patas: 4, Orejas: 2, Ojos: 2\n",
      "El perro está andando a 5 km/h\n",
      "Velocidad actual: 5 km/h\n",
      "El perro se ha parado.\n",
      "GUAU! ¡Alguien está en la puerta!\n"
     ]
    }
   ],
   "source": [
    "class Perro:\n",
    "    # Atributos comunes\n",
    "    patas = 4\n",
    "    orejas = 2\n",
    "    ojos = 2\n",
    "    velocidad = 0  # El perro está parado inicialmente\n",
    "\n",
    "    def __init__(self, raza, color_pelo=\"Marrón\", tiene_dueno=False):\n",
    "        \"\"\"\n",
    "        Inicializa una nueva instancia de la clase Perro.\n",
    "        \n",
    "        :param raza: La raza del perro (String)\n",
    "        :param color_pelo: El color del pelo del perro (String, por defecto \"Marrón\")\n",
    "        :param tiene_dueno: Booleano que indica si el perro tiene dueño (por defecto False)\n",
    "        \"\"\"\n",
    "        self.raza = raza\n",
    "        self.color_pelo = color_pelo\n",
    "        self.tiene_dueno = tiene_dueno\n",
    "\n",
    "    def andar(self, aumento_velocidad):\n",
    "        \"\"\"\n",
    "        Incrementa la velocidad del perro en función del aumento dado.\n",
    "        \n",
    "        :param aumento_velocidad: El valor que se le suma a la velocidad actual.\n",
    "        \"\"\"\n",
    "        self.velocidad += aumento_velocidad\n",
    "        print(f\"El perro está andando a {self.velocidad} km/h\")\n",
    "\n",
    "    def parar(self):\n",
    "        \"\"\"\n",
    "        Pone la velocidad del perro a 0.\n",
    "        \"\"\"\n",
    "        self.velocidad = 0\n",
    "        print(\"El perro se ha parado.\")\n",
    "\n",
    "    def ladrar(self, mensaje):\n",
    "        \"\"\"\n",
    "        El perro emite un ladrido.\n",
    "        \n",
    "        :param mensaje: El mensaje que acompaña al ladrido.\n",
    "        :return: String con el ladrido y el mensaje.\n",
    "        \"\"\"\n",
    "        return f\"GUAU! {mensaje}\"\n",
    "\n",
    "# Crear un objeto de tipo Perro sin dueño\n",
    "mi_perro = Perro(raza=\"Labrador\")\n",
    "\n",
    "# Comprobar que están bien todos sus atributos\n",
    "print(f\"Raza: {mi_perro.raza}\")\n",
    "print(f\"Color de pelo: {mi_perro.color_pelo}\")\n",
    "print(f\"Tiene dueño: {mi_perro.tiene_dueno}\")\n",
    "print(f\"Velocidad inicial: {mi_perro.velocidad} km/h\")\n",
    "print(f\"Patas: {mi_perro.patas}, Orejas: {mi_perro.orejas}, Ojos: {mi_perro.ojos}\")\n",
    "\n",
    "# Hacer que el perro ande\n",
    "mi_perro.andar(5)  # El perro ahora camina a 5 km/h\n",
    "\n",
    "# Comprobar la velocidad actual\n",
    "print(f\"Velocidad actual: {mi_perro.velocidad} km/h\")\n",
    "\n",
    "# Parar al perro\n",
    "mi_perro.parar()\n",
    "\n",
    "# El perro ladra\n",
    "print(mi_perro.ladrar(\"¡Alguien está en la puerta!\"))\n"
   ]
  },
  {
   "cell_type": "code",
   "execution_count": null,
   "metadata": {},
   "outputs": [],
   "source": []
  }
 ],
 "metadata": {
  "colab": {
   "provenance": []
  },
  "kernelspec": {
   "display_name": "Python 3 (ipykernel)",
   "language": "python",
   "name": "python3"
  },
  "language_info": {
   "codemirror_mode": {
    "name": "ipython",
    "version": 3
   },
   "file_extension": ".py",
   "mimetype": "text/x-python",
   "name": "python",
   "nbconvert_exporter": "python",
   "pygments_lexer": "ipython3",
   "version": "3.12.4"
  }
 },
 "nbformat": 4,
 "nbformat_minor": 4
}
