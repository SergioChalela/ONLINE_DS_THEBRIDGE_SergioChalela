{
 "cells": [
  {
   "cell_type": "code",
   "execution_count": 1,
   "id": "5a67977c-5a8a-4172-bb29-871ebfa7b5fa",
   "metadata": {},
   "outputs": [
    {
     "name": "stdout",
     "output_type": "stream",
     "text": [
      "Hola Mundo\n"
     ]
    }
   ],
   "source": [
    "print(\"Hola Mundo\")"
   ]
  },
  {
   "cell_type": "markdown",
   "id": "263ddf43-71b0-4fa2-ad4a-fcabb900b298",
   "metadata": {},
   "source": [
    "Hola Mundo"
   ]
  },
  {
   "cell_type": "code",
   "execution_count": null,
   "id": "6df203c0-0391-4a80-acfb-d66ccd75bdd4",
   "metadata": {},
   "outputs": [],
   "source": []
  }
 ],
 "metadata": {
  "kernelspec": {
   "display_name": "Python 3 (ipykernel)",
   "language": "python",
   "name": "python3"
  },
  "language_info": {
   "codemirror_mode": {
    "name": "ipython",
    "version": 3
   },
   "file_extension": ".py",
   "mimetype": "text/x-python",
   "name": "python",
   "nbconvert_exporter": "python",
   "pygments_lexer": "ipython3",
   "version": "3.12.4"
  }
 },
 "nbformat": 4,
 "nbformat_minor": 5
}
